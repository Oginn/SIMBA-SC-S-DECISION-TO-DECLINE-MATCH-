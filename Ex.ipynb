{
 "cells": [
  {
   "cell_type": "code",
   "execution_count": 21,
   "id": "e997be4d-bea9-4667-b99e-a89537ae4df6",
   "metadata": {},
   "outputs": [],
   "source": [
    "import pandas as pd\n",
    "import matplotlib.pyplot as plt\n",
    "import seaborn as sns"
   ]
  },
  {
   "cell_type": "code",
   "execution_count": 7,
   "id": "53a05b9f-315f-48a7-9355-a06c00829c55",
   "metadata": {},
   "outputs": [],
   "source": [
    "# Load dataset"
   ]
  },
  {
   "cell_type": "code",
   "execution_count": 22,
   "id": "ffe480db-d828-4f04-a88f-a95040ea896f",
   "metadata": {},
   "outputs": [],
   "source": [
    "df = pd.read_csv(\"Simba_SC_Dataset.csv\")"
   ]
  },
  {
   "cell_type": "code",
   "execution_count": 23,
   "id": "8571a895-bdd1-40cf-b923-faec5c9ca362",
   "metadata": {},
   "outputs": [
    {
     "data": {
      "text/html": [
       "<div>\n",
       "<style scoped>\n",
       "    .dataframe tbody tr th:only-of-type {\n",
       "        vertical-align: middle;\n",
       "    }\n",
       "\n",
       "    .dataframe tbody tr th {\n",
       "        vertical-align: top;\n",
       "    }\n",
       "\n",
       "    .dataframe thead th {\n",
       "        text-align: right;\n",
       "    }\n",
       "</style>\n",
       "<table border=\"1\" class=\"dataframe\">\n",
       "  <thead>\n",
       "    <tr style=\"text-align: right;\">\n",
       "      <th></th>\n",
       "      <th>Competition</th>\n",
       "      <th>Result</th>\n",
       "      <th>Home_Team</th>\n",
       "      <th>Away_Team</th>\n",
       "      <th>Home_Score</th>\n",
       "      <th>Away_Score</th>\n",
       "      <th>Goal_Difference</th>\n",
       "    </tr>\n",
       "  </thead>\n",
       "  <tbody>\n",
       "    <tr>\n",
       "      <th>0</th>\n",
       "      <td>ICCL</td>\n",
       "      <td>D</td>\n",
       "      <td>Simba SC</td>\n",
       "      <td>ASEC Mimosas</td>\n",
       "      <td>1</td>\n",
       "      <td>1</td>\n",
       "      <td>0</td>\n",
       "    </tr>\n",
       "    <tr>\n",
       "      <th>1</th>\n",
       "      <td>ICCL</td>\n",
       "      <td>D</td>\n",
       "      <td>Galaxy</td>\n",
       "      <td>Simba SC</td>\n",
       "      <td>0</td>\n",
       "      <td>0</td>\n",
       "      <td>0</td>\n",
       "    </tr>\n",
       "    <tr>\n",
       "      <th>2</th>\n",
       "      <td>ICCL</td>\n",
       "      <td>L</td>\n",
       "      <td>Wydad Casablanca</td>\n",
       "      <td>Simba SC</td>\n",
       "      <td>1</td>\n",
       "      <td>0</td>\n",
       "      <td>1</td>\n",
       "    </tr>\n",
       "    <tr>\n",
       "      <th>3</th>\n",
       "      <td>ICCL</td>\n",
       "      <td>W</td>\n",
       "      <td>Simba SC</td>\n",
       "      <td>Wydad Casablanca</td>\n",
       "      <td>2</td>\n",
       "      <td>0</td>\n",
       "      <td>2</td>\n",
       "    </tr>\n",
       "    <tr>\n",
       "      <th>4</th>\n",
       "      <td>ICCL</td>\n",
       "      <td>D</td>\n",
       "      <td>ASEC Mimosas</td>\n",
       "      <td>Simba SC</td>\n",
       "      <td>0</td>\n",
       "      <td>0</td>\n",
       "      <td>0</td>\n",
       "    </tr>\n",
       "  </tbody>\n",
       "</table>\n",
       "</div>"
      ],
      "text/plain": [
       "  Competition Result         Home_Team         Away_Team  Home_Score  \\\n",
       "0        ICCL      D          Simba SC      ASEC Mimosas           1   \n",
       "1        ICCL      D            Galaxy          Simba SC           0   \n",
       "2        ICCL      L  Wydad Casablanca          Simba SC           1   \n",
       "3        ICCL      W          Simba SC  Wydad Casablanca           2   \n",
       "4        ICCL      D      ASEC Mimosas          Simba SC           0   \n",
       "\n",
       "   Away_Score  Goal_Difference  \n",
       "0           1                0  \n",
       "1           0                0  \n",
       "2           0                1  \n",
       "3           0                2  \n",
       "4           0                0  "
      ]
     },
     "execution_count": 23,
     "metadata": {},
     "output_type": "execute_result"
    }
   ],
   "source": [
    "df.head()"
   ]
  },
  {
   "cell_type": "code",
   "execution_count": 12,
   "id": "ddca152a-d475-4fec-aba9-4510f09402af",
   "metadata": {},
   "outputs": [],
   "source": [
    "# Summary statistics"
   ]
  },
  {
   "cell_type": "code",
   "execution_count": 24,
   "id": "c8a239f9-a7aa-478b-bb28-cb191ccd8c3a",
   "metadata": {},
   "outputs": [],
   "source": [
    "win_count = df[df['Result'] == 'W'].shape[0]\n",
    "draw_count = df[df['Result'] == 'D'].shape[0]\n",
    "loss_count = df[df['Result'] == 'L'].shape[0]"
   ]
  },
  {
   "cell_type": "code",
   "execution_count": 25,
   "id": "eaa3f736-1f4a-48fc-929b-6ee45a9823d3",
   "metadata": {},
   "outputs": [],
   "source": [
    "goals_scored = df['Home_Score'].sum() + df['Away_Score'].sum()\n",
    "goals_conceded = goals_scored - df['Goal_Difference'].sum()\n",
    "goal_difference = goals_scored - goals_conceded"
   ]
  },
  {
   "cell_type": "code",
   "execution_count": 14,
   "id": "094cc990-82ba-403b-8893-da2d856de678",
   "metadata": {},
   "outputs": [],
   "source": [
    "# Head-to-head vs Yanga SC"
   ]
  },
  {
   "cell_type": "code",
   "execution_count": 26,
   "id": "546c04f0-7872-4f4b-b6a4-bf5ebb11cfe8",
   "metadata": {},
   "outputs": [],
   "source": [
    "yanga_matches = df[(df[\"Home_Team\"] == \"Simba SC\") & (df[\"Away_Team\"] == \"Young Africans\") |\n",
    "                    (df[\"Home_Team\"] == \"Young Africans\") & (df[\"Away_Team\"] == \"Simba SC\")]\n"
   ]
  },
  {
   "cell_type": "code",
   "execution_count": 27,
   "id": "ae261244-cbc1-4180-9b77-d62f59da8448",
   "metadata": {},
   "outputs": [
    {
     "data": {
      "text/html": [
       "<div>\n",
       "<style scoped>\n",
       "    .dataframe tbody tr th:only-of-type {\n",
       "        vertical-align: middle;\n",
       "    }\n",
       "\n",
       "    .dataframe tbody tr th {\n",
       "        vertical-align: top;\n",
       "    }\n",
       "\n",
       "    .dataframe thead th {\n",
       "        text-align: right;\n",
       "    }\n",
       "</style>\n",
       "<table border=\"1\" class=\"dataframe\">\n",
       "  <thead>\n",
       "    <tr style=\"text-align: right;\">\n",
       "      <th></th>\n",
       "      <th>Competition</th>\n",
       "      <th>Result</th>\n",
       "      <th>Home_Team</th>\n",
       "      <th>Away_Team</th>\n",
       "      <th>Home_Score</th>\n",
       "      <th>Away_Score</th>\n",
       "      <th>Goal_Difference</th>\n",
       "    </tr>\n",
       "  </thead>\n",
       "  <tbody>\n",
       "    <tr>\n",
       "      <th>13</th>\n",
       "      <td>PL</td>\n",
       "      <td>L</td>\n",
       "      <td>Simba SC</td>\n",
       "      <td>Young Africans</td>\n",
       "      <td>0</td>\n",
       "      <td>1</td>\n",
       "      <td>-1</td>\n",
       "    </tr>\n",
       "    <tr>\n",
       "      <th>30</th>\n",
       "      <td>PL</td>\n",
       "      <td>W</td>\n",
       "      <td>Young Africans</td>\n",
       "      <td>Simba SC</td>\n",
       "      <td>0</td>\n",
       "      <td>1</td>\n",
       "      <td>-1</td>\n",
       "    </tr>\n",
       "  </tbody>\n",
       "</table>\n",
       "</div>"
      ],
      "text/plain": [
       "   Competition Result       Home_Team       Away_Team  Home_Score  Away_Score  \\\n",
       "13          PL      L        Simba SC  Young Africans           0           1   \n",
       "30          PL      W  Young Africans        Simba SC           0           1   \n",
       "\n",
       "    Goal_Difference  \n",
       "13               -1  \n",
       "30               -1  "
      ]
     },
     "execution_count": 27,
     "metadata": {},
     "output_type": "execute_result"
    }
   ],
   "source": [
    "yanga_matches"
   ]
  },
  {
   "cell_type": "code",
   "execution_count": 29,
   "id": "43f153d3-e592-4e02-a4d7-bee1b7ba4aa9",
   "metadata": {},
   "outputs": [],
   "source": [
    "\n",
    "# Print Summary"
   ]
  },
  {
   "cell_type": "code",
   "execution_count": 30,
   "id": "76bfa048-b262-4141-90dc-afe96464e99f",
   "metadata": {},
   "outputs": [
    {
     "name": "stdout",
     "output_type": "stream",
     "text": [
      "Overall Performance:\n",
      "Wins: 24, Draws: 6, Losses: 4\n",
      "Total Goals Scored: 84, Total Goals Conceded: 68, Goal Difference: 16\n",
      "\n",
      "Head-to-Head vs Young Africans:\n",
      "   Competition Result       Home_Team       Away_Team  Home_Score  Away_Score  \\\n",
      "13          PL      L        Simba SC  Young Africans           0           1   \n",
      "30          PL      W  Young Africans        Simba SC           0           1   \n",
      "\n",
      "    Goal_Difference  \n",
      "13               -1  \n",
      "30               -1  \n"
     ]
    }
   ],
   "source": [
    "print(\"Overall Performance:\")\n",
    "print(f\"Wins: {win_count}, Draws: {draw_count}, Losses: {loss_count}\")\n",
    "print(f\"Total Goals Scored: {goals_scored}, Total Goals Conceded: {goals_conceded}, Goal Difference: {goal_difference}\")\n",
    "print(\"\\nHead-to-Head vs Young Africans:\")\n",
    "print(yanga_matches)"
   ]
  },
  {
   "cell_type": "code",
   "execution_count": 32,
   "id": "81b1d29b-b563-44f2-9f54-d73303cfd690",
   "metadata": {},
   "outputs": [],
   "source": [
    "# Visualization"
   ]
  },
  {
   "cell_type": "code",
   "execution_count": 33,
   "id": "8f988354-a075-4d98-898a-13e183f19e43",
   "metadata": {},
   "outputs": [
    {
     "data": {
      "text/plain": [
       "<Figure size 1200x600 with 0 Axes>"
      ]
     },
     "execution_count": 33,
     "metadata": {},
     "output_type": "execute_result"
    },
    {
     "data": {
      "text/plain": [
       "<Figure size 1200x600 with 0 Axes>"
      ]
     },
     "metadata": {},
     "output_type": "display_data"
    }
   ],
   "source": [
    "plt.figure(figsize=(12, 6))"
   ]
  },
  {
   "cell_type": "code",
   "execution_count": 34,
   "id": "7db4e025-f4d9-4d50-ade8-04d5efb7f636",
   "metadata": {},
   "outputs": [],
   "source": [
    "# Match Results Distribution"
   ]
  },
  {
   "cell_type": "code",
   "execution_count": 35,
   "id": "bd14724f-b707-4979-a570-22495dbd02dd",
   "metadata": {},
   "outputs": [
    {
     "name": "stderr",
     "output_type": "stream",
     "text": [
      "C:\\Users\\OMATOLOGY-TECH\\AppData\\Local\\Temp\\ipykernel_17292\\2992209685.py:2: FutureWarning: \n",
      "\n",
      "Passing `palette` without assigning `hue` is deprecated and will be removed in v0.14.0. Assign the `x` variable to `hue` and set `legend=False` for the same effect.\n",
      "\n",
      "  sns.barplot(x=['Wins', 'Draws', 'Losses'], y=[win_count, draw_count, loss_count], palette=['green', 'blue', 'red'])\n"
     ]
    },
    {
     "data": {
      "text/plain": [
       "Text(0, 0.5, 'Count')"
      ]
     },
     "execution_count": 35,
     "metadata": {},
     "output_type": "execute_result"
    },
    {
     "data": {
      "image/png": "[encoded data removed]",
      "text/plain": [
       "<Figure size 640x480 with 1 Axes>"
      ]
     },
     "metadata": {},
     "output_type": "display_data"
    }
   ],
   "source": [
    "plt.subplot(1, 2, 1)\n",
    "sns.barplot(x=['Wins', 'Draws', 'Losses'], y=[win_count, draw_count, loss_count], palette=['green', 'blue', 'red'])\n",
    "plt.title(\"Match Results Distribution\")\n",
    "plt.ylabel(\"Count\")"
   ]
  },
  {
   "cell_type": "code",
   "execution_count": 36,
   "id": "b5ef4279-8346-4eb5-8d9a-234f1c305df8",
   "metadata": {},
   "outputs": [],
   "source": [
    "# Goals Scored vs Goals Conceded"
   ]
  },
  {
   "cell_type": "code",
   "execution_count": 37,
   "id": "81363125-5c30-4fc2-95d8-73602e519ab7",
   "metadata": {},
   "outputs": [
    {
     "name": "stderr",
     "output_type": "stream",
     "text": [
      "C:\\Users\\OMATOLOGY-TECH\\AppData\\Local\\Temp\\ipykernel_17292\\2128714287.py:2: FutureWarning: \n",
      "\n",
      "Passing `palette` without assigning `hue` is deprecated and will be removed in v0.14.0. Assign the `x` variable to `hue` and set `legend=False` for the same effect.\n",
      "\n",
      "  sns.barplot(x=['Goals Scored', 'Goals Conceded'], y=[goals_scored, goals_conceded], palette=['green', 'red'])\n"
     ]
    },
    {
     "data": {
      "text/plain": [
       "Text(0, 0.5, 'Total Goals')"
      ]
     },
     "execution_count": 37,
     "metadata": {},
     "output_type": "execute_result"
    },
    {
     "data": {
      "image/png": "[encoded data removed]",
      "text/plain": [
       "<Figure size 640x480 with 1 Axes>"
      ]
     },
     "metadata": {},
     "output_type": "display_data"
    }
   ],
   "source": [
    "plt.subplot(1, 2, 2)\n",
    "sns.barplot(x=['Goals Scored', 'Goals Conceded'], y=[goals_scored, goals_conceded], palette=['green', 'red'])\n",
    "plt.title(\"Goals Scored vs Goals Conceded\")\n",
    "plt.ylabel(\"Total Goals\")"
   ]
  },
  {
   "cell_type": "code",
   "execution_count": 38,
   "id": "a7fa6c6c-9190-42b9-8350-f45d92d3c0d8",
   "metadata": {},
   "outputs": [
    {
     "data": {
      "text/plain": [
       "<Figure size 640x480 with 0 Axes>"
      ]
     },
     "metadata": {},
     "output_type": "display_data"
    }
   ],
   "source": [
    "plt.tight_layout()\n",
    "plt.show()"
   ]
  },
  {
   "cell_type": "code",
   "execution_count": null,
   "id": "92105a38-9c07-4c95-b454-6302a31a39ad",
   "metadata": {},
   "outputs": [],
   "source": [
    "\n"
   ]
  }
 ],
 "metadata": {
  "kernelspec": {
   "display_name": "Python 3 (ipykernel)",
   "language": "python",
   "name": "python3"
  },
  "language_info": {
   "codemirror_mode": {
    "name": "ipython",
    "version": 3
   },
   "file_extension": ".py",
   "mimetype": "text/x-python",
   "name": "python",
   "nbconvert_exporter": "python",
   "pygments_lexer": "ipython3",
   "version": "3.12.7"
  }
 },
 "nbformat": 4,
 "nbformat_minor": 5
}
